{
 "metadata": {
  "language_info": {
   "codemirror_mode": {
    "name": "ipython",
    "version": 3
   },
   "file_extension": ".py",
   "mimetype": "text/x-python",
   "name": "python",
   "nbconvert_exporter": "python",
   "pygments_lexer": "ipython3",
   "version": "3.8.3-final"
  },
  "orig_nbformat": 2,
  "kernelspec": {
   "name": "python3",
   "display_name": "Python 3.8.3 64-bit ('base': conda)",
   "metadata": {
    "interpreter": {
     "hash": "d09cc15f64a7cc605e7539a0365d2b997689213e38dd2f60330d9540a9b766a2"
    }
   }
  }
 },
 "nbformat": 4,
 "nbformat_minor": 2,
 "cells": [
  {
   "cell_type": "code",
   "execution_count": 1,
   "metadata": {},
   "outputs": [],
   "source": [
    "import warnings\n",
    "warnings.filterwarnings('ignore')\n",
    "import numpy as np\n",
    "import pandas as pd\n",
    "import seaborn as sns\n",
    "import scipy.stats as ss\n",
    "import matplotlib.pyplot as plt\n",
    "from math import cos, sin, pi\n",
    "from IPython.display import display, HTML, Javascript\n",
    "from tune_sklearn import TuneGridSearchCV\n",
    "\n",
    "%matplotlib inline\n",
    "sns.set_style(\"ticks\") "
   ]
  },
  {
   "cell_type": "code",
   "execution_count": 2,
   "metadata": {},
   "outputs": [
    {
     "output_type": "execute_result",
     "data": {
      "text/plain": [
       "   ISSID  Province                Municipality_metro  Metro  Rural  \\\n",
       "0    105         9  Western Cape - City of Cape Town      1      0   \n",
       "1      4         1              Eastern Cape - Senqu      0      1   \n",
       "2     67         6         KwaZulu Natal - eThekwini      1      0   \n",
       "3    730         3         Gauteng - City of Tshwane      1      0   \n",
       "4     62         3    Gauteng - City of Johannesburg      1      0   \n",
       "\n",
       "  TownCity_Name                                Suburbareaplacename  \\\n",
       "0     Cape Town  Khayelitsha; Town Two phase four informal sett...   \n",
       "1   Sterkspruit                                        Sterkspruit   \n",
       "2        Durban  Dundee, Forbes & Manhattan Coal processing pla...   \n",
       "3      Pretoria                      Pretoria West - Lotus Gardens   \n",
       "4  Johannesburg                Johannesburg, Nelson Mandela bridge   \n",
       "\n",
       "              Police_Station           Coordinates   Latitude  ...  \\\n",
       "0           WC - Khayelitsha  -34.034239,18.677953 -34.034238  ...   \n",
       "1           EC - Sterkspruit  -30.524935,27.364588 -30.524934  ...   \n",
       "2               KZN - Dundee  -28.170436,30.230345 -28.170435  ...   \n",
       "3         GP - Pretoria West  -25.751159,28.083004 -25.751159  ...   \n",
       "4  GP - Johannesburg Central   -26.128008,28.03176 -26.128008  ...   \n",
       "\n",
       "     Cross_Street  Start_Date    End_Date Ongoing              type  type_id  \\\n",
       "0  Lansdowne Road  02/01/2013  02/12/2013       1  Service delivery        9   \n",
       "1    Zastron road  01/01/2013  01/24/2013       1  Service delivery        9   \n",
       "2  Not applicable  01/17/2013  01/26/2013       1    Labour related        4   \n",
       "3     Brizia Cres  01/03/2013  01/03/2013       0       Vigilantism        7   \n",
       "4          Bompas  01/04/2013  01/04/2013       0     Crime related        1   \n",
       "\n",
       "  Violent_or_violent  violent Rangecode  \\\n",
       "0            Violent        1         5   \n",
       "1            Violent        1         1   \n",
       "2            Violent        1         3   \n",
       "3            Violent        1         5   \n",
       "4           Peaceful        0         3   \n",
       "\n",
       "                                    Reasonforprotest  \n",
       "0  Protests during which people from other areas ...  \n",
       "1  The residents wanted Sterkspruit to be moved f...  \n",
       "2  Decreased amount: the miners had initially bee...  \n",
       "3  Residents stoned the house, smashed windows an...  \n",
       "4  The news of the death of South African mountai...  \n",
       "\n",
       "[5 rows x 22 columns]"
      ],
      "text/html": "<div>\n<style scoped>\n    .dataframe tbody tr th:only-of-type {\n        vertical-align: middle;\n    }\n\n    .dataframe tbody tr th {\n        vertical-align: top;\n    }\n\n    .dataframe thead th {\n        text-align: right;\n    }\n</style>\n<table border=\"1\" class=\"dataframe\">\n  <thead>\n    <tr style=\"text-align: right;\">\n      <th></th>\n      <th>ISSID</th>\n      <th>Province</th>\n      <th>Municipality_metro</th>\n      <th>Metro</th>\n      <th>Rural</th>\n      <th>TownCity_Name</th>\n      <th>Suburbareaplacename</th>\n      <th>Police_Station</th>\n      <th>Coordinates</th>\n      <th>Latitude</th>\n      <th>...</th>\n      <th>Cross_Street</th>\n      <th>Start_Date</th>\n      <th>End_Date</th>\n      <th>Ongoing</th>\n      <th>type</th>\n      <th>type_id</th>\n      <th>Violent_or_violent</th>\n      <th>violent</th>\n      <th>Rangecode</th>\n      <th>Reasonforprotest</th>\n    </tr>\n  </thead>\n  <tbody>\n    <tr>\n      <th>0</th>\n      <td>105</td>\n      <td>9</td>\n      <td>Western Cape - City of Cape Town</td>\n      <td>1</td>\n      <td>0</td>\n      <td>Cape Town</td>\n      <td>Khayelitsha; Town Two phase four informal sett...</td>\n      <td>WC - Khayelitsha</td>\n      <td>-34.034239,18.677953</td>\n      <td>-34.034238</td>\n      <td>...</td>\n      <td>Lansdowne Road</td>\n      <td>02/01/2013</td>\n      <td>02/12/2013</td>\n      <td>1</td>\n      <td>Service delivery</td>\n      <td>9</td>\n      <td>Violent</td>\n      <td>1</td>\n      <td>5</td>\n      <td>Protests during which people from other areas ...</td>\n    </tr>\n    <tr>\n      <th>1</th>\n      <td>4</td>\n      <td>1</td>\n      <td>Eastern Cape - Senqu</td>\n      <td>0</td>\n      <td>1</td>\n      <td>Sterkspruit</td>\n      <td>Sterkspruit</td>\n      <td>EC - Sterkspruit</td>\n      <td>-30.524935,27.364588</td>\n      <td>-30.524934</td>\n      <td>...</td>\n      <td>Zastron road</td>\n      <td>01/01/2013</td>\n      <td>01/24/2013</td>\n      <td>1</td>\n      <td>Service delivery</td>\n      <td>9</td>\n      <td>Violent</td>\n      <td>1</td>\n      <td>1</td>\n      <td>The residents wanted Sterkspruit to be moved f...</td>\n    </tr>\n    <tr>\n      <th>2</th>\n      <td>67</td>\n      <td>6</td>\n      <td>KwaZulu Natal - eThekwini</td>\n      <td>1</td>\n      <td>0</td>\n      <td>Durban</td>\n      <td>Dundee, Forbes &amp; Manhattan Coal processing pla...</td>\n      <td>KZN - Dundee</td>\n      <td>-28.170436,30.230345</td>\n      <td>-28.170435</td>\n      <td>...</td>\n      <td>Not applicable</td>\n      <td>01/17/2013</td>\n      <td>01/26/2013</td>\n      <td>1</td>\n      <td>Labour related</td>\n      <td>4</td>\n      <td>Violent</td>\n      <td>1</td>\n      <td>3</td>\n      <td>Decreased amount: the miners had initially bee...</td>\n    </tr>\n    <tr>\n      <th>3</th>\n      <td>730</td>\n      <td>3</td>\n      <td>Gauteng - City of Tshwane</td>\n      <td>1</td>\n      <td>0</td>\n      <td>Pretoria</td>\n      <td>Pretoria West - Lotus Gardens</td>\n      <td>GP - Pretoria West</td>\n      <td>-25.751159,28.083004</td>\n      <td>-25.751159</td>\n      <td>...</td>\n      <td>Brizia Cres</td>\n      <td>01/03/2013</td>\n      <td>01/03/2013</td>\n      <td>0</td>\n      <td>Vigilantism</td>\n      <td>7</td>\n      <td>Violent</td>\n      <td>1</td>\n      <td>5</td>\n      <td>Residents stoned the house, smashed windows an...</td>\n    </tr>\n    <tr>\n      <th>4</th>\n      <td>62</td>\n      <td>3</td>\n      <td>Gauteng - City of Johannesburg</td>\n      <td>1</td>\n      <td>0</td>\n      <td>Johannesburg</td>\n      <td>Johannesburg, Nelson Mandela bridge</td>\n      <td>GP - Johannesburg Central</td>\n      <td>-26.128008,28.03176</td>\n      <td>-26.128008</td>\n      <td>...</td>\n      <td>Bompas</td>\n      <td>01/04/2013</td>\n      <td>01/04/2013</td>\n      <td>0</td>\n      <td>Crime related</td>\n      <td>1</td>\n      <td>Peaceful</td>\n      <td>0</td>\n      <td>3</td>\n      <td>The news of the death of South African mountai...</td>\n    </tr>\n  </tbody>\n</table>\n<p>5 rows × 22 columns</p>\n</div>"
     },
     "metadata": {},
     "execution_count": 2
    }
   ],
   "source": [
    "df_protests = pd.read_csv('./saprotest.csv')\n",
    "df_protests.head()"
   ]
  },
  {
   "cell_type": "code",
   "execution_count": 3,
   "metadata": {},
   "outputs": [],
   "source": [
    "df_sentiment = df_protests[['Reasonforprotest','violent']]"
   ]
  },
  {
   "cell_type": "code",
   "execution_count": 4,
   "metadata": {},
   "outputs": [],
   "source": [
    "from sklearn.model_selection import train_test_split,GridSearchCV, RandomizedSearchCV\n",
    "\n",
    "X, X_Valid,Y,Y_Valid = train_test_split(df_sentiment['Reasonforprotest'].values, df_sentiment['violent'].values, test_size=0.25, random_state=None)"
   ]
  },
  {
   "cell_type": "code",
   "execution_count": 5,
   "metadata": {},
   "outputs": [],
   "source": [
    "from text_processing import pre_process_corpus\n",
    "train_reviews = [pre_process_corpus(text) for text in X]\n",
    "val_reviews = [pre_process_corpus(text) for text in X_Valid]\n"
   ]
  },
  {
   "cell_type": "code",
   "execution_count": 6,
   "metadata": {},
   "outputs": [
    {
     "output_type": "stream",
     "name": "stdout",
     "text": [
      "WARNING:tensorflow:From /Users/itumelengmalalane/opt/anaconda3/lib/python3.8/site-packages/tensorflow/python/compat/v2_compat.py:96: disable_resource_variables (from tensorflow.python.ops.variable_scope) is deprecated and will be removed in a future version.\n",
      "Instructions for updating:\n",
      "non-resource variables are not supported in the long term\n",
      "WARNING:tensorflow:From /Users/itumelengmalalane/opt/anaconda3/lib/python3.8/site-packages/tensorflow/python/util/lazy_loader.py:63: The name tf.estimator.inputs is deprecated. Please use tf.compat.v1.estimator.inputs instead.\n",
      "\n"
     ]
    }
   ],
   "source": [
    "#import tensorflow as tf\n",
    "import tensorflow_hub as hub\n",
    "import tensorflow.compat.v1 as tf\n",
    "tf.disable_v2_behavior() \n",
    "tf.compat.v1.disable_resource_variables()\n",
    "train_input_fn = tf.compat.v1.estimator.inputs.numpy_input_fn(\n",
    "    {'sentence': np.array(train_reviews)}, Y, \n",
    "    batch_size=50, num_epochs=None, shuffle=True)\n",
    "    \n",
    "# Prediction on the whole training set.\n",
    "predict_train_input_fn = tf.compat.v1.estimator.inputs.numpy_input_fn(\n",
    "    {'sentence': np.array(train_reviews)}, Y, shuffle=False)\n",
    "    \n",
    "# Prediction on the whole validation set.\n",
    "predict_val_input_fn = tf.compat.v1.estimator.inputs.numpy_input_fn(\n",
    "    {'sentence': np.array(val_reviews)}, Y_Valid, shuffle=False)\n",
    "    \n"
   ]
  },
  {
   "cell_type": "code",
   "execution_count": 7,
   "metadata": {},
   "outputs": [],
   "source": [
    "embedding_feature = hub.text_embedding_column(\n",
    "    key='sentence', \n",
    "    module_spec=\"https://tfhub.dev/google/universal-sentence-encoder/2\",\n",
    "    trainable=False)"
   ]
  },
  {
   "cell_type": "code",
   "execution_count": 8,
   "metadata": {},
   "outputs": [
    {
     "output_type": "stream",
     "name": "stdout",
     "text": [
      "INFO:tensorflow:Using default config.\n",
      "INFO:tensorflow:Using default config.\n",
      "WARNING:tensorflow:Using temporary folder as model directory: /var/folders/16/0h_tr4k15xvcvtfr6syc20w80000gn/T/tmptfbirv2k\n",
      "WARNING:tensorflow:Using temporary folder as model directory: /var/folders/16/0h_tr4k15xvcvtfr6syc20w80000gn/T/tmptfbirv2k\n",
      "INFO:tensorflow:Using config: {'_model_dir': '/var/folders/16/0h_tr4k15xvcvtfr6syc20w80000gn/T/tmptfbirv2k', '_tf_random_seed': None, '_save_summary_steps': 100, '_save_checkpoints_steps': None, '_save_checkpoints_secs': 600, '_session_config': allow_soft_placement: true\n",
      "graph_options {\n",
      "  rewrite_options {\n",
      "    meta_optimizer_iterations: ONE\n",
      "  }\n",
      "}\n",
      ", '_keep_checkpoint_max': 5, '_keep_checkpoint_every_n_hours': 10000, '_log_step_count_steps': 100, '_train_distribute': None, '_device_fn': None, '_protocol': None, '_eval_distribute': None, '_experimental_distribute': None, '_experimental_max_worker_delay_secs': None, '_session_creation_timeout_secs': 7200, '_checkpoint_save_graph_def': True, '_service': None, '_cluster_spec': ClusterSpec({}), '_task_type': 'worker', '_task_id': 0, '_global_id_in_cluster': 0, '_master': '', '_evaluation_master': '', '_is_chief': True, '_num_ps_replicas': 0, '_num_worker_replicas': 1}\n",
      "INFO:tensorflow:Using config: {'_model_dir': '/var/folders/16/0h_tr4k15xvcvtfr6syc20w80000gn/T/tmptfbirv2k', '_tf_random_seed': None, '_save_summary_steps': 100, '_save_checkpoints_steps': None, '_save_checkpoints_secs': 600, '_session_config': allow_soft_placement: true\n",
      "graph_options {\n",
      "  rewrite_options {\n",
      "    meta_optimizer_iterations: ONE\n",
      "  }\n",
      "}\n",
      ", '_keep_checkpoint_max': 5, '_keep_checkpoint_every_n_hours': 10000, '_log_step_count_steps': 100, '_train_distribute': None, '_device_fn': None, '_protocol': None, '_eval_distribute': None, '_experimental_distribute': None, '_experimental_max_worker_delay_secs': None, '_session_creation_timeout_secs': 7200, '_checkpoint_save_graph_def': True, '_service': None, '_cluster_spec': ClusterSpec({}), '_task_type': 'worker', '_task_id': 0, '_global_id_in_cluster': 0, '_master': '', '_evaluation_master': '', '_is_chief': True, '_num_ps_replicas': 0, '_num_worker_replicas': 1}\n"
     ]
    }
   ],
   "source": [
    "optimizer_adam = tf.compat.v1.train.AdamOptimizer(\n",
    "    learning_rate=tf.compat.v1.train.exponential_decay(\n",
    "        global_step=0,\n",
    "        learning_rate=0.1,\n",
    "        decay_steps=10000,\n",
    "        decay_rate=0.96, staircase=True))\n",
    "\n",
    "dnn = tf.estimator.DNNClassifier(\n",
    "          hidden_units=[512, 128],\n",
    "          feature_columns=[embedding_feature],\n",
    "          n_classes=2,\n",
    "          activation_fn=tf.nn.relu,\n",
    "          dropout=0.1,\n",
    "          optimizer=optimizer_adam)"
   ]
  },
  {
   "cell_type": "code",
   "execution_count": 61,
   "metadata": {},
   "outputs": [],
   "source": [
    "dnn = tf.estimator.DNNClassifier(\n",
    "          hidden_units=[256, 128],\n",
    "          feature_columns=[embedding_feature],\n",
    "          n_classes=2,\n",
    "          activation_fn=tf.nn.relu,\n",
    "          dropout=0.3,\n",
    "          optimizer=tf.train.AdamOptimizer(learning_rate=0.005))"
   ]
  },
  {
   "cell_type": "code",
   "execution_count": 62,
   "metadata": {},
   "outputs": [
    {
     "output_type": "stream",
     "name": "stdout",
     "text": [
      "\n",
      "----------------------------------------------------------------------------------------------------\n",
      "Training for step = 0\n",
      "Train Time (s): 32.7277569770813\n",
      "Eval Metrics (Train): {'accuracy': 0.847793, 'accuracy_baseline': 0.5540335, 'auc': 0.9453878, 'auc_precision_recall': 0.9342432, 'average_loss': 0.31393448, 'label/mean': 0.4459665, 'loss': 34.375824, 'precision': 0.8844622, 'prediction/mean': 0.39513904, 'recall': 0.75767916, 'global_step': 100}\n",
      "Eval Metrics (Validation): {'accuracy': 0.7762557, 'accuracy_baseline': 0.53881276, 'auc': 0.8721682, 'auc_precision_recall': 0.84976554, 'average_loss': 0.49950156, 'label/mean': 0.4611872, 'loss': 54.69542, 'precision': 0.81707317, 'prediction/mean': 0.38345462, 'recall': 0.6633663, 'global_step': 100}\n",
      "\n",
      "----------------------------------------------------------------------------------------------------\n",
      "Training for step = 100\n",
      "Train Time (s): 31.215128898620605\n",
      "Eval Metrics (Train): {'accuracy': 0.9543379, 'accuracy_baseline': 0.5540335, 'auc': 0.99169266, 'auc_precision_recall': 0.9900961, 'average_loss': 0.13816597, 'label/mean': 0.4459665, 'loss': 15.129173, 'precision': 0.92282957, 'prediction/mean': 0.48416677, 'recall': 0.97952217, 'global_step': 200}\n",
      "Eval Metrics (Validation): {'accuracy': 0.7853881, 'accuracy_baseline': 0.53881276, 'auc': 0.8667981, 'auc_precision_recall': 0.8472578, 'average_loss': 0.7133863, 'label/mean': 0.4611872, 'loss': 78.1158, 'precision': 0.7410714, 'prediction/mean': 0.49205002, 'recall': 0.8217822, 'global_step': 200}\n",
      "\n",
      "----------------------------------------------------------------------------------------------------\n",
      "Training for step = 200\n",
      "Train Time (s): 35.345837116241455\n",
      "Eval Metrics (Train): {'accuracy': 0.9893455, 'accuracy_baseline': 0.5540335, 'auc': 0.99823254, 'auc_precision_recall': 0.9976272, 'average_loss': 0.052148078, 'label/mean': 0.4459665, 'loss': 5.7102146, 'precision': 0.9863946, 'prediction/mean': 0.43986568, 'recall': 0.9897611, 'global_step': 300}\n",
      "Eval Metrics (Validation): {'accuracy': 0.7762557, 'accuracy_baseline': 0.53881276, 'auc': 0.83675945, 'auc_precision_recall': 0.82227504, 'average_loss': 1.0381821, 'label/mean': 0.4611872, 'loss': 113.68094, 'precision': 0.7826087, 'prediction/mean': 0.42214435, 'recall': 0.7128713, 'global_step': 300}\n",
      "\n",
      "----------------------------------------------------------------------------------------------------\n",
      "Training for step = 300\n",
      "Train Time (s): 35.15362787246704\n",
      "Eval Metrics (Train): {'accuracy': 0.99847794, 'accuracy_baseline': 0.5540335, 'auc': 0.9999719, 'auc_precision_recall': 0.999965, 'average_loss': 0.01315937, 'label/mean': 0.4459665, 'loss': 1.440951, 'precision': 0.99659866, 'prediction/mean': 0.44496644, 'recall': 1.0, 'global_step': 400}\n",
      "Eval Metrics (Validation): {'accuracy': 0.79452056, 'accuracy_baseline': 0.53881276, 'auc': 0.8559742, 'auc_precision_recall': 0.85109866, 'average_loss': 1.2262473, 'label/mean': 0.4611872, 'loss': 134.27408, 'precision': 0.7745098, 'prediction/mean': 0.45851666, 'recall': 0.7821782, 'global_step': 400}\n",
      "\n",
      "----------------------------------------------------------------------------------------------------\n",
      "Training for step = 400\n",
      "Train Time (s): 29.84604001045227\n",
      "Eval Metrics (Train): {'accuracy': 0.9969559, 'accuracy_baseline': 0.5540335, 'auc': 0.99999994, 'auc_precision_recall': 1.0, 'average_loss': 0.014714213, 'label/mean': 0.4459665, 'loss': 1.6112064, 'precision': 0.9932203, 'prediction/mean': 0.45408094, 'recall': 1.0, 'global_step': 500}\n",
      "Eval Metrics (Validation): {'accuracy': 0.78995436, 'accuracy_baseline': 0.53881276, 'auc': 0.8512754, 'auc_precision_recall': 0.8437306, 'average_loss': 1.3010867, 'label/mean': 0.4611872, 'loss': 142.469, 'precision': 0.7570093, 'prediction/mean': 0.48062384, 'recall': 0.8019802, 'global_step': 500}\n",
      "\n",
      "----------------------------------------------------------------------------------------------------\n",
      "Training for step = 500\n",
      "Train Time (s): 29.55542492866516\n",
      "Eval Metrics (Train): {'accuracy': 0.9969559, 'accuracy_baseline': 0.5540335, 'auc': 0.9999766, 'auc_precision_recall': 0.99997085, 'average_loss': 0.014469986, 'label/mean': 0.4459665, 'loss': 1.5844635, 'precision': 0.99658704, 'prediction/mean': 0.444307, 'recall': 0.99658704, 'global_step': 600}\n",
      "Eval Metrics (Validation): {'accuracy': 0.7853881, 'accuracy_baseline': 0.53881276, 'auc': 0.85052013, 'auc_precision_recall': 0.8446097, 'average_loss': 1.3268355, 'label/mean': 0.4611872, 'loss': 145.28848, 'precision': 0.7647059, 'prediction/mean': 0.4571379, 'recall': 0.77227724, 'global_step': 600}\n"
     ]
    }
   ],
   "source": [
    "tf.compat.v1.logging.set_verbosity(tf.compat.v1.logging.ERROR)\n",
    "import time\n",
    "\n",
    "TOTAL_STEPS = 500\n",
    "STEP_SIZE = 100\n",
    "for step in range(0, TOTAL_STEPS+1, STEP_SIZE):\n",
    "    print()\n",
    "    print('-'*100)\n",
    "    print('Training for step =', step)\n",
    "    start_time = time.time()\n",
    "    dnn.train(input_fn=lambda: train_input_fn(), steps=STEP_SIZE)\n",
    "    elapsed_time = time.time() - start_time\n",
    "    print('Train Time (s):', elapsed_time)\n",
    "    print('Eval Metrics (Train):', dnn.evaluate(input_fn=predict_train_input_fn))\n",
    "    print('Eval Metrics (Validation):', dnn.evaluate(input_fn=predict_val_input_fn))"
   ]
  },
  {
   "cell_type": "code",
   "execution_count": 63,
   "metadata": {},
   "outputs": [],
   "source": [
    "predict_example = tf.estimator.inputs.numpy_input_fn(\n",
    "    {'sentence': np.array('Students protesting for higher education one citizen shot dead')}, 0, shuffle=False)"
   ]
  },
  {
   "cell_type": "code",
   "execution_count": 64,
   "metadata": {},
   "outputs": [],
   "source": [
    "test = np.array(['Students peaceful protesting for better pay wage'])"
   ]
  },
  {
   "cell_type": "code",
   "execution_count": 65,
   "metadata": {},
   "outputs": [],
   "source": [
    "predict_input_fn = tf.estimator.inputs.numpy_input_fn(x={\"sentence\":test}, y=None, batch_size=1, num_epochs=None, shuffle=False)"
   ]
  },
  {
   "cell_type": "code",
   "execution_count": 66,
   "metadata": {},
   "outputs": [],
   "source": [
    "pred = dnn.predict(predict_input_fn)"
   ]
  },
  {
   "cell_type": "code",
   "execution_count": 67,
   "metadata": {},
   "outputs": [],
   "source": [
    "predictions_dict = next(pred)"
   ]
  },
  {
   "cell_type": "code",
   "execution_count": 68,
   "metadata": {},
   "outputs": [
    {
     "output_type": "execute_result",
     "data": {
      "text/plain": [
       "{'logits': array([-2.9135618], dtype=float32),\n",
       " 'logistic': array([0.05148721], dtype=float32),\n",
       " 'probabilities': array([0.9485128 , 0.05148721], dtype=float32),\n",
       " 'class_ids': array([0]),\n",
       " 'classes': array([b'0'], dtype=object),\n",
       " 'all_class_ids': array([0, 1], dtype=int32),\n",
       " 'all_classes': array([b'0', b'1'], dtype=object)}"
      ]
     },
     "metadata": {},
     "execution_count": 68
    }
   ],
   "source": [
    "predictions_dict"
   ]
  },
  {
   "cell_type": "code",
   "execution_count": 31,
   "metadata": {},
   "outputs": [
    {
     "output_type": "stream",
     "name": "stdout",
     "text": [
      "kk\n"
     ]
    }
   ],
   "source": [
    "print('kk')"
   ]
  },
  {
   "cell_type": "code",
   "execution_count": 74,
   "metadata": {},
   "outputs": [],
   "source": [
    "predict_test_input_fn = tf.compat.v1.estimator.inputs.numpy_input_fn(\n",
    "    {'sentence': np.array(['miners shot at Marikana,five dead','peacefull protest at the beach Cape Town','men protest for higher education, ten citizen killed by police','women die at protest against gender based violence get tear gassed by police several injured'])}, np.array([1,0,1,1]), shuffle=False)"
   ]
  },
  {
   "cell_type": "code",
   "execution_count": 75,
   "metadata": {},
   "outputs": [
    {
     "output_type": "stream",
     "name": "stdout",
     "text": [
      "Eval Metrics (Validation): {'accuracy': 0.5, 'accuracy_baseline': 0.75, 'auc': 0.8333326, 'auc_precision_recall': 0.958333, 'average_loss': 2.0154982, 'label/mean': 0.75, 'loss': 8.061993, 'precision': 1.0, 'prediction/mean': 0.2864325, 'recall': 0.33333334, 'global_step': 600}\n"
     ]
    }
   ],
   "source": [
    "print('Eval Metrics (Validation):', dnn.evaluate(input_fn=predict_test_input_fn))"
   ]
  },
  {
   "cell_type": "code",
   "execution_count": 76,
   "metadata": {},
   "outputs": [],
   "source": [
    "pred = dnn.predict(predict_test_input_fn)"
   ]
  },
  {
   "cell_type": "code",
   "execution_count": 77,
   "metadata": {},
   "outputs": [
    {
     "output_type": "stream",
     "name": "stdout",
     "text": [
      "p: {'logits': array([13.555992], dtype=float32), 'logistic': array([0.99999875], dtype=float32), 'probabilities': array([1.296304e-06, 9.999987e-01], dtype=float32), 'class_ids': array([1]), 'classes': array([b'1'], dtype=object), 'all_class_ids': array([0, 1], dtype=int32), 'all_classes': array([b'0', b'1'], dtype=object)}\np: {'logits': array([-8.142369], dtype=float32), 'logistic': array([0.00029087], dtype=float32), 'probabilities': array([9.9970907e-01, 2.9086240e-04], dtype=float32), 'class_ids': array([0]), 'classes': array([b'0'], dtype=object), 'all_class_ids': array([0, 1], dtype=int32), 'all_classes': array([b'0', b'1'], dtype=object)}\np: {'logits': array([-1.7886477], dtype=float32), 'logistic': array([0.14323857], dtype=float32), 'probabilities': array([0.8567614, 0.1432386], dtype=float32), 'class_ids': array([0]), 'classes': array([b'0'], dtype=object), 'all_class_ids': array([0, 1], dtype=int32), 'all_classes': array([b'0', b'1'], dtype=object)}\np: {'logits': array([-6.1162524], dtype=float32), 'logistic': array([0.00220186], dtype=float32), 'probabilities': array([0.9977982 , 0.00220185], dtype=float32), 'class_ids': array([0]), 'classes': array([b'0'], dtype=object), 'all_class_ids': array([0, 1], dtype=int32), 'all_classes': array([b'0', b'1'], dtype=object)}\n"
     ]
    }
   ],
   "source": [
    "for p in pred:\n",
    "    print('p:',p)"
   ]
  },
  {
   "cell_type": "code",
   "execution_count": null,
   "metadata": {},
   "outputs": [],
   "source": []
  }
 ]
}